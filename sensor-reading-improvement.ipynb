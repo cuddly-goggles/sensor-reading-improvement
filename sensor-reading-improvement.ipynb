{
 "cells": [
  {
   "cell_type": "code",
   "execution_count": null,
   "id": "d6d639ac-f30a-44a3-bf86-539ea88feac8",
   "metadata": {},
   "outputs": [],
   "source": [
    "# !pip install pandas\n",
    "# !pip install scikit-learn\n",
    "# !pip install numpy\n",
    "# !pip install tensorflow"
   ]
  },
  {
   "cell_type": "code",
   "execution_count": 1,
   "id": "b58b9d04-71e5-4c42-98cd-6dbb31f3cca5",
   "metadata": {},
   "outputs": [],
   "source": [
    "import pandas as pd\n",
    "from sklearn.model_selection import train_test_split\n",
    "from sklearn.preprocessing import StandardScaler\n",
    "from sklearn.ensemble import RandomForestRegressor\n",
    "from sklearn.metrics import mean_squared_error, r2_score\n",
    "from sklearn.model_selection import cross_val_score\n",
    "import numpy as np"
   ]
  },
  {
   "cell_type": "code",
   "execution_count": 2,
   "id": "008498d0-3c96-46a6-8e53-db368da6f730",
   "metadata": {},
   "outputs": [],
   "source": [
    "boxmod_data = pd.read_csv('./data/BoxMod.csv', header=None)\n",
    "juul_data = pd.read_csv('./data/JUUL.csv', header=None)"
   ]
  },
  {
   "cell_type": "code",
   "execution_count": 3,
   "id": "b640418a-f736-4b8f-a3da-97ed05ce8f8b",
   "metadata": {},
   "outputs": [
    {
     "data": {
      "text/html": [
       "<div>\n",
       "<style scoped>\n",
       "    .dataframe tbody tr th:only-of-type {\n",
       "        vertical-align: middle;\n",
       "    }\n",
       "\n",
       "    .dataframe tbody tr th {\n",
       "        vertical-align: top;\n",
       "    }\n",
       "\n",
       "    .dataframe thead th {\n",
       "        text-align: right;\n",
       "    }\n",
       "</style>\n",
       "<table border=\"1\" class=\"dataframe\">\n",
       "  <thead>\n",
       "    <tr style=\"text-align: right;\">\n",
       "      <th></th>\n",
       "      <th>0</th>\n",
       "      <th>1</th>\n",
       "      <th>2</th>\n",
       "      <th>3</th>\n",
       "      <th>4</th>\n",
       "      <th>5</th>\n",
       "      <th>6</th>\n",
       "      <th>7</th>\n",
       "      <th>8</th>\n",
       "      <th>9</th>\n",
       "      <th>...</th>\n",
       "      <th>22</th>\n",
       "      <th>23</th>\n",
       "      <th>24</th>\n",
       "      <th>25</th>\n",
       "      <th>26</th>\n",
       "      <th>27</th>\n",
       "      <th>28</th>\n",
       "      <th>29</th>\n",
       "      <th>30</th>\n",
       "      <th>31</th>\n",
       "    </tr>\n",
       "  </thead>\n",
       "  <tbody>\n",
       "    <tr>\n",
       "      <th>0</th>\n",
       "      <td>3510.0</td>\n",
       "      <td>1400.0</td>\n",
       "      <td>1090.0</td>\n",
       "      <td>2330.0</td>\n",
       "      <td>1920.0</td>\n",
       "      <td>1180.0</td>\n",
       "      <td>1100.0</td>\n",
       "      <td>1860.0</td>\n",
       "      <td>2170.0</td>\n",
       "      <td>1900.0</td>\n",
       "      <td>...</td>\n",
       "      <td>915.0</td>\n",
       "      <td>2050.0</td>\n",
       "      <td>2420.0</td>\n",
       "      <td>2080.0</td>\n",
       "      <td>1930.0</td>\n",
       "      <td>2310.0</td>\n",
       "      <td>1700.0</td>\n",
       "      <td>1710.0</td>\n",
       "      <td>2150.0</td>\n",
       "      <td>1990.0</td>\n",
       "    </tr>\n",
       "    <tr>\n",
       "      <th>1</th>\n",
       "      <td>3330.0</td>\n",
       "      <td>1380.0</td>\n",
       "      <td>1000.0</td>\n",
       "      <td>2060.0</td>\n",
       "      <td>1980.0</td>\n",
       "      <td>1090.0</td>\n",
       "      <td>1050.0</td>\n",
       "      <td>1760.0</td>\n",
       "      <td>2240.0</td>\n",
       "      <td>1830.0</td>\n",
       "      <td>...</td>\n",
       "      <td>845.0</td>\n",
       "      <td>1860.0</td>\n",
       "      <td>2280.0</td>\n",
       "      <td>2020.0</td>\n",
       "      <td>1820.0</td>\n",
       "      <td>2130.0</td>\n",
       "      <td>1610.0</td>\n",
       "      <td>1470.0</td>\n",
       "      <td>2020.0</td>\n",
       "      <td>1800.0</td>\n",
       "    </tr>\n",
       "    <tr>\n",
       "      <th>2</th>\n",
       "      <td>3140.0</td>\n",
       "      <td>1300.0</td>\n",
       "      <td>1130.0</td>\n",
       "      <td>1910.0</td>\n",
       "      <td>1850.0</td>\n",
       "      <td>988.0</td>\n",
       "      <td>1000.0</td>\n",
       "      <td>1540.0</td>\n",
       "      <td>2030.0</td>\n",
       "      <td>1610.0</td>\n",
       "      <td>...</td>\n",
       "      <td>801.0</td>\n",
       "      <td>1910.0</td>\n",
       "      <td>1940.0</td>\n",
       "      <td>1920.0</td>\n",
       "      <td>1650.0</td>\n",
       "      <td>1890.0</td>\n",
       "      <td>1430.0</td>\n",
       "      <td>1370.0</td>\n",
       "      <td>1890.0</td>\n",
       "      <td>1710.0</td>\n",
       "    </tr>\n",
       "    <tr>\n",
       "      <th>3</th>\n",
       "      <td>3030.0</td>\n",
       "      <td>1140.0</td>\n",
       "      <td>757.0</td>\n",
       "      <td>1790.0</td>\n",
       "      <td>1760.0</td>\n",
       "      <td>935.0</td>\n",
       "      <td>949.0</td>\n",
       "      <td>1660.0</td>\n",
       "      <td>1810.0</td>\n",
       "      <td>1750.0</td>\n",
       "      <td>...</td>\n",
       "      <td>771.0</td>\n",
       "      <td>1710.0</td>\n",
       "      <td>1800.0</td>\n",
       "      <td>1840.0</td>\n",
       "      <td>1570.0</td>\n",
       "      <td>1780.0</td>\n",
       "      <td>1390.0</td>\n",
       "      <td>1250.0</td>\n",
       "      <td>1650.0</td>\n",
       "      <td>1620.0</td>\n",
       "    </tr>\n",
       "    <tr>\n",
       "      <th>4</th>\n",
       "      <td>2790.0</td>\n",
       "      <td>1240.0</td>\n",
       "      <td>673.0</td>\n",
       "      <td>1830.0</td>\n",
       "      <td>1530.0</td>\n",
       "      <td>980.0</td>\n",
       "      <td>922.0</td>\n",
       "      <td>1450.0</td>\n",
       "      <td>1710.0</td>\n",
       "      <td>1570.0</td>\n",
       "      <td>...</td>\n",
       "      <td>655.0</td>\n",
       "      <td>1640.0</td>\n",
       "      <td>1820.0</td>\n",
       "      <td>1620.0</td>\n",
       "      <td>1600.0</td>\n",
       "      <td>1780.0</td>\n",
       "      <td>1380.0</td>\n",
       "      <td>1350.0</td>\n",
       "      <td>1640.0</td>\n",
       "      <td>1630.0</td>\n",
       "    </tr>\n",
       "  </tbody>\n",
       "</table>\n",
       "<p>5 rows × 32 columns</p>\n",
       "</div>"
      ],
      "text/plain": [
       "       0       1       2       3       4       5       6       7       8   \\\n",
       "0  3510.0  1400.0  1090.0  2330.0  1920.0  1180.0  1100.0  1860.0  2170.0   \n",
       "1  3330.0  1380.0  1000.0  2060.0  1980.0  1090.0  1050.0  1760.0  2240.0   \n",
       "2  3140.0  1300.0  1130.0  1910.0  1850.0   988.0  1000.0  1540.0  2030.0   \n",
       "3  3030.0  1140.0   757.0  1790.0  1760.0   935.0   949.0  1660.0  1810.0   \n",
       "4  2790.0  1240.0   673.0  1830.0  1530.0   980.0   922.0  1450.0  1710.0   \n",
       "\n",
       "       9   ...     22      23      24      25      26      27      28      29  \\\n",
       "0  1900.0  ...  915.0  2050.0  2420.0  2080.0  1930.0  2310.0  1700.0  1710.0   \n",
       "1  1830.0  ...  845.0  1860.0  2280.0  2020.0  1820.0  2130.0  1610.0  1470.0   \n",
       "2  1610.0  ...  801.0  1910.0  1940.0  1920.0  1650.0  1890.0  1430.0  1370.0   \n",
       "3  1750.0  ...  771.0  1710.0  1800.0  1840.0  1570.0  1780.0  1390.0  1250.0   \n",
       "4  1570.0  ...  655.0  1640.0  1820.0  1620.0  1600.0  1780.0  1380.0  1350.0   \n",
       "\n",
       "       30      31  \n",
       "0  2150.0  1990.0  \n",
       "1  2020.0  1800.0  \n",
       "2  1890.0  1710.0  \n",
       "3  1650.0  1620.0  \n",
       "4  1640.0  1630.0  \n",
       "\n",
       "[5 rows x 32 columns]"
      ]
     },
     "execution_count": 3,
     "metadata": {},
     "output_type": "execute_result"
    }
   ],
   "source": [
    "boxmod_data.head()\n",
    "# boxmod_data.tail()"
   ]
  },
  {
   "cell_type": "code",
   "execution_count": 4,
   "id": "40c7ed4e-2d42-478e-98b1-a85066df347e",
   "metadata": {},
   "outputs": [
    {
     "data": {
      "text/html": [
       "<div>\n",
       "<style scoped>\n",
       "    .dataframe tbody tr th:only-of-type {\n",
       "        vertical-align: middle;\n",
       "    }\n",
       "\n",
       "    .dataframe tbody tr th {\n",
       "        vertical-align: top;\n",
       "    }\n",
       "\n",
       "    .dataframe thead th {\n",
       "        text-align: right;\n",
       "    }\n",
       "</style>\n",
       "<table border=\"1\" class=\"dataframe\">\n",
       "  <thead>\n",
       "    <tr style=\"text-align: right;\">\n",
       "      <th></th>\n",
       "      <th>0</th>\n",
       "      <th>1</th>\n",
       "      <th>2</th>\n",
       "      <th>3</th>\n",
       "      <th>4</th>\n",
       "      <th>5</th>\n",
       "      <th>6</th>\n",
       "      <th>7</th>\n",
       "      <th>8</th>\n",
       "      <th>9</th>\n",
       "      <th>...</th>\n",
       "      <th>22</th>\n",
       "      <th>23</th>\n",
       "      <th>24</th>\n",
       "      <th>25</th>\n",
       "      <th>26</th>\n",
       "      <th>27</th>\n",
       "      <th>28</th>\n",
       "      <th>29</th>\n",
       "      <th>30</th>\n",
       "      <th>31</th>\n",
       "    </tr>\n",
       "  </thead>\n",
       "  <tbody>\n",
       "    <tr>\n",
       "      <th>0</th>\n",
       "      <td>102.0</td>\n",
       "      <td>37.0</td>\n",
       "      <td>4.12</td>\n",
       "      <td>27.5</td>\n",
       "      <td>30.5</td>\n",
       "      <td>38.0</td>\n",
       "      <td>29.3</td>\n",
       "      <td>29.80</td>\n",
       "      <td>35.3</td>\n",
       "      <td>40.9</td>\n",
       "      <td>...</td>\n",
       "      <td>53.8</td>\n",
       "      <td>46.8</td>\n",
       "      <td>37.8</td>\n",
       "      <td>31.6</td>\n",
       "      <td>24.1</td>\n",
       "      <td>31.4</td>\n",
       "      <td>46.2</td>\n",
       "      <td>35.3</td>\n",
       "      <td>33.1</td>\n",
       "      <td>33.4</td>\n",
       "    </tr>\n",
       "    <tr>\n",
       "      <th>1</th>\n",
       "      <td>102.0</td>\n",
       "      <td>21.1</td>\n",
       "      <td>23.10</td>\n",
       "      <td>26.4</td>\n",
       "      <td>28.9</td>\n",
       "      <td>37.0</td>\n",
       "      <td>28.0</td>\n",
       "      <td>6.47</td>\n",
       "      <td>32.1</td>\n",
       "      <td>40.9</td>\n",
       "      <td>...</td>\n",
       "      <td>37.2</td>\n",
       "      <td>41.2</td>\n",
       "      <td>33.6</td>\n",
       "      <td>29.5</td>\n",
       "      <td>21.2</td>\n",
       "      <td>24.4</td>\n",
       "      <td>29.4</td>\n",
       "      <td>43.1</td>\n",
       "      <td>31.7</td>\n",
       "      <td>25.3</td>\n",
       "    </tr>\n",
       "    <tr>\n",
       "      <th>2</th>\n",
       "      <td>78.1</td>\n",
       "      <td>36.1</td>\n",
       "      <td>21.10</td>\n",
       "      <td>24.5</td>\n",
       "      <td>26.2</td>\n",
       "      <td>33.6</td>\n",
       "      <td>27.0</td>\n",
       "      <td>27.60</td>\n",
       "      <td>29.7</td>\n",
       "      <td>39.6</td>\n",
       "      <td>...</td>\n",
       "      <td>35.4</td>\n",
       "      <td>35.6</td>\n",
       "      <td>30.2</td>\n",
       "      <td>27.4</td>\n",
       "      <td>30.6</td>\n",
       "      <td>23.8</td>\n",
       "      <td>43.6</td>\n",
       "      <td>41.5</td>\n",
       "      <td>30.6</td>\n",
       "      <td>24.3</td>\n",
       "    </tr>\n",
       "    <tr>\n",
       "      <th>3</th>\n",
       "      <td>62.4</td>\n",
       "      <td>35.5</td>\n",
       "      <td>20.30</td>\n",
       "      <td>25.6</td>\n",
       "      <td>24.8</td>\n",
       "      <td>31.2</td>\n",
       "      <td>23.8</td>\n",
       "      <td>24.40</td>\n",
       "      <td>31.1</td>\n",
       "      <td>38.1</td>\n",
       "      <td>...</td>\n",
       "      <td>33.4</td>\n",
       "      <td>34.9</td>\n",
       "      <td>31.1</td>\n",
       "      <td>24.6</td>\n",
       "      <td>20.3</td>\n",
       "      <td>23.2</td>\n",
       "      <td>41.5</td>\n",
       "      <td>40.6</td>\n",
       "      <td>21.6</td>\n",
       "      <td>23.5</td>\n",
       "    </tr>\n",
       "    <tr>\n",
       "      <th>4</th>\n",
       "      <td>55.9</td>\n",
       "      <td>23.7</td>\n",
       "      <td>-2.50</td>\n",
       "      <td>22.9</td>\n",
       "      <td>23.2</td>\n",
       "      <td>32.1</td>\n",
       "      <td>24.6</td>\n",
       "      <td>23.30</td>\n",
       "      <td>30.3</td>\n",
       "      <td>37.0</td>\n",
       "      <td>...</td>\n",
       "      <td>47.6</td>\n",
       "      <td>27.6</td>\n",
       "      <td>29.1</td>\n",
       "      <td>23.5</td>\n",
       "      <td>19.6</td>\n",
       "      <td>25.7</td>\n",
       "      <td>39.1</td>\n",
       "      <td>29.1</td>\n",
       "      <td>28.4</td>\n",
       "      <td>22.6</td>\n",
       "    </tr>\n",
       "    <tr>\n",
       "      <th>...</th>\n",
       "      <td>...</td>\n",
       "      <td>...</td>\n",
       "      <td>...</td>\n",
       "      <td>...</td>\n",
       "      <td>...</td>\n",
       "      <td>...</td>\n",
       "      <td>...</td>\n",
       "      <td>...</td>\n",
       "      <td>...</td>\n",
       "      <td>...</td>\n",
       "      <td>...</td>\n",
       "      <td>...</td>\n",
       "      <td>...</td>\n",
       "      <td>...</td>\n",
       "      <td>...</td>\n",
       "      <td>...</td>\n",
       "      <td>...</td>\n",
       "      <td>...</td>\n",
       "      <td>...</td>\n",
       "      <td>...</td>\n",
       "      <td>...</td>\n",
       "    </tr>\n",
       "    <tr>\n",
       "      <th>1312</th>\n",
       "      <td>447.0</td>\n",
       "      <td>78.4</td>\n",
       "      <td>159.00</td>\n",
       "      <td>135.0</td>\n",
       "      <td>272.0</td>\n",
       "      <td>199.0</td>\n",
       "      <td>157.0</td>\n",
       "      <td>158.00</td>\n",
       "      <td>160.0</td>\n",
       "      <td>189.0</td>\n",
       "      <td>...</td>\n",
       "      <td>174.0</td>\n",
       "      <td>234.0</td>\n",
       "      <td>270.0</td>\n",
       "      <td>263.0</td>\n",
       "      <td>160.0</td>\n",
       "      <td>201.0</td>\n",
       "      <td>278.0</td>\n",
       "      <td>311.0</td>\n",
       "      <td>307.0</td>\n",
       "      <td>259.0</td>\n",
       "    </tr>\n",
       "    <tr>\n",
       "      <th>1313</th>\n",
       "      <td>332.0</td>\n",
       "      <td>70.8</td>\n",
       "      <td>196.00</td>\n",
       "      <td>102.0</td>\n",
       "      <td>164.0</td>\n",
       "      <td>111.0</td>\n",
       "      <td>100.0</td>\n",
       "      <td>109.00</td>\n",
       "      <td>95.8</td>\n",
       "      <td>116.0</td>\n",
       "      <td>...</td>\n",
       "      <td>109.0</td>\n",
       "      <td>129.0</td>\n",
       "      <td>207.0</td>\n",
       "      <td>195.0</td>\n",
       "      <td>91.8</td>\n",
       "      <td>219.0</td>\n",
       "      <td>209.0</td>\n",
       "      <td>280.0</td>\n",
       "      <td>179.0</td>\n",
       "      <td>193.0</td>\n",
       "    </tr>\n",
       "    <tr>\n",
       "      <th>1314</th>\n",
       "      <td>239.0</td>\n",
       "      <td>54.0</td>\n",
       "      <td>125.00</td>\n",
       "      <td>93.4</td>\n",
       "      <td>157.0</td>\n",
       "      <td>96.1</td>\n",
       "      <td>102.0</td>\n",
       "      <td>120.00</td>\n",
       "      <td>76.1</td>\n",
       "      <td>93.4</td>\n",
       "      <td>...</td>\n",
       "      <td>84.1</td>\n",
       "      <td>121.0</td>\n",
       "      <td>167.0</td>\n",
       "      <td>146.0</td>\n",
       "      <td>102.0</td>\n",
       "      <td>116.0</td>\n",
       "      <td>157.0</td>\n",
       "      <td>155.0</td>\n",
       "      <td>164.0</td>\n",
       "      <td>147.0</td>\n",
       "    </tr>\n",
       "    <tr>\n",
       "      <th>1315</th>\n",
       "      <td>184.0</td>\n",
       "      <td>38.8</td>\n",
       "      <td>74.30</td>\n",
       "      <td>57.1</td>\n",
       "      <td>126.0</td>\n",
       "      <td>81.4</td>\n",
       "      <td>78.1</td>\n",
       "      <td>69.70</td>\n",
       "      <td>72.7</td>\n",
       "      <td>91.1</td>\n",
       "      <td>...</td>\n",
       "      <td>96.1</td>\n",
       "      <td>94.9</td>\n",
       "      <td>118.0</td>\n",
       "      <td>109.0</td>\n",
       "      <td>65.7</td>\n",
       "      <td>85.4</td>\n",
       "      <td>130.0</td>\n",
       "      <td>118.0</td>\n",
       "      <td>133.0</td>\n",
       "      <td>112.0</td>\n",
       "    </tr>\n",
       "    <tr>\n",
       "      <th>1316</th>\n",
       "      <td>135.0</td>\n",
       "      <td>21.9</td>\n",
       "      <td>54.30</td>\n",
       "      <td>43.2</td>\n",
       "      <td>95.8</td>\n",
       "      <td>59.0</td>\n",
       "      <td>62.3</td>\n",
       "      <td>50.40</td>\n",
       "      <td>53.8</td>\n",
       "      <td>50.0</td>\n",
       "      <td>...</td>\n",
       "      <td>62.0</td>\n",
       "      <td>71.9</td>\n",
       "      <td>89.8</td>\n",
       "      <td>82.1</td>\n",
       "      <td>51.5</td>\n",
       "      <td>67.0</td>\n",
       "      <td>90.5</td>\n",
       "      <td>106.0</td>\n",
       "      <td>97.3</td>\n",
       "      <td>84.5</td>\n",
       "    </tr>\n",
       "  </tbody>\n",
       "</table>\n",
       "<p>1317 rows × 32 columns</p>\n",
       "</div>"
      ],
      "text/plain": [
       "         0     1       2      3      4      5      6       7      8      9   \\\n",
       "0     102.0  37.0    4.12   27.5   30.5   38.0   29.3   29.80   35.3   40.9   \n",
       "1     102.0  21.1   23.10   26.4   28.9   37.0   28.0    6.47   32.1   40.9   \n",
       "2      78.1  36.1   21.10   24.5   26.2   33.6   27.0   27.60   29.7   39.6   \n",
       "3      62.4  35.5   20.30   25.6   24.8   31.2   23.8   24.40   31.1   38.1   \n",
       "4      55.9  23.7   -2.50   22.9   23.2   32.1   24.6   23.30   30.3   37.0   \n",
       "...     ...   ...     ...    ...    ...    ...    ...     ...    ...    ...   \n",
       "1312  447.0  78.4  159.00  135.0  272.0  199.0  157.0  158.00  160.0  189.0   \n",
       "1313  332.0  70.8  196.00  102.0  164.0  111.0  100.0  109.00   95.8  116.0   \n",
       "1314  239.0  54.0  125.00   93.4  157.0   96.1  102.0  120.00   76.1   93.4   \n",
       "1315  184.0  38.8   74.30   57.1  126.0   81.4   78.1   69.70   72.7   91.1   \n",
       "1316  135.0  21.9   54.30   43.2   95.8   59.0   62.3   50.40   53.8   50.0   \n",
       "\n",
       "      ...     22     23     24     25     26     27     28     29     30  \\\n",
       "0     ...   53.8   46.8   37.8   31.6   24.1   31.4   46.2   35.3   33.1   \n",
       "1     ...   37.2   41.2   33.6   29.5   21.2   24.4   29.4   43.1   31.7   \n",
       "2     ...   35.4   35.6   30.2   27.4   30.6   23.8   43.6   41.5   30.6   \n",
       "3     ...   33.4   34.9   31.1   24.6   20.3   23.2   41.5   40.6   21.6   \n",
       "4     ...   47.6   27.6   29.1   23.5   19.6   25.7   39.1   29.1   28.4   \n",
       "...   ...    ...    ...    ...    ...    ...    ...    ...    ...    ...   \n",
       "1312  ...  174.0  234.0  270.0  263.0  160.0  201.0  278.0  311.0  307.0   \n",
       "1313  ...  109.0  129.0  207.0  195.0   91.8  219.0  209.0  280.0  179.0   \n",
       "1314  ...   84.1  121.0  167.0  146.0  102.0  116.0  157.0  155.0  164.0   \n",
       "1315  ...   96.1   94.9  118.0  109.0   65.7   85.4  130.0  118.0  133.0   \n",
       "1316  ...   62.0   71.9   89.8   82.1   51.5   67.0   90.5  106.0   97.3   \n",
       "\n",
       "         31  \n",
       "0      33.4  \n",
       "1      25.3  \n",
       "2      24.3  \n",
       "3      23.5  \n",
       "4      22.6  \n",
       "...     ...  \n",
       "1312  259.0  \n",
       "1313  193.0  \n",
       "1314  147.0  \n",
       "1315  112.0  \n",
       "1316   84.5  \n",
       "\n",
       "[1317 rows x 32 columns]"
      ]
     },
     "execution_count": 4,
     "metadata": {},
     "output_type": "execute_result"
    }
   ],
   "source": [
    "juul_data\n",
    "# juul_data.tail()"
   ]
  },
  {
   "cell_type": "code",
   "execution_count": 5,
   "id": "88c8d43f-3770-4c2a-ad2a-5fad7895ab48",
   "metadata": {},
   "outputs": [],
   "source": [
    "X_boxmod = boxmod_data.iloc[:, 1:]\n",
    "y_boxmod = boxmod_data.iloc[:, 0] "
   ]
  },
  {
   "cell_type": "code",
   "execution_count": 6,
   "id": "b57ec22d-a3a9-4d1f-9b65-ab1bb40a2726",
   "metadata": {},
   "outputs": [],
   "source": [
    "# X_boxmod.head()"
   ]
  },
  {
   "cell_type": "code",
   "execution_count": 7,
   "id": "6b8cce67-3050-4416-9c40-4e83c3214933",
   "metadata": {},
   "outputs": [],
   "source": [
    "X_juul = juul_data.iloc[:, 1:]\n",
    "y_juul = juul_data.iloc[:, 0]"
   ]
  },
  {
   "cell_type": "code",
   "execution_count": 8,
   "id": "d25e49c3-8e81-44dd-961f-cad24d7e131e",
   "metadata": {},
   "outputs": [],
   "source": [
    "X_boxmod_train, X_boxmod_test, y_boxmod_train, y_boxmod_test = train_test_split(X_boxmod, y_boxmod, test_size=0.3, random_state=42)"
   ]
  },
  {
   "cell_type": "code",
   "execution_count": 9,
   "id": "912bc7db-3e72-430f-a51f-c74f25dcc48f",
   "metadata": {},
   "outputs": [],
   "source": [
    "X_juul_train, X_juul_test, y_juul_train, y_juul_test = train_test_split(X_juul, y_juul, test_size=0.3, random_state=42)"
   ]
  },
  {
   "cell_type": "code",
   "execution_count": 10,
   "id": "9349aadd-a77a-4923-bce1-b9f7e6476045",
   "metadata": {},
   "outputs": [],
   "source": [
    "scaler = StandardScaler()\n",
    "X_boxmod_train_scaled = scaler.fit_transform(X_boxmod_train)\n",
    "X_boxmod_test_scaled = scaler.transform(X_boxmod_test)\n",
    "X_juul_train_scaled = scaler.transform(X_juul_train)\n",
    "X_juul_test_scaled = scaler.transform(X_juul_test)"
   ]
  },
  {
   "cell_type": "code",
   "execution_count": 11,
   "id": "4b5761a8-7541-4562-bdfe-369cbbeb5be4",
   "metadata": {},
   "outputs": [],
   "source": [
    "def evaluation(model, X_test_scaled, y_test, dataset_name):\n",
    "    predictions = model.predict(X_test_scaled)\n",
    "    \n",
    "    r2 = r2_score(y_test, predictions)\n",
    "    rmse = np.sqrt(mean_squared_error(y_test, predictions))\n",
    "    \n",
    "    print(f\"{dataset_name} - R2 Score:\", r2)\n",
    "    print(f\"{dataset_name} - RMSE:\", rmse)\n",
    "\n",
    "def evaluation_cross(model, X_test_scaled, y_test, dataset_name):\n",
    "    cv_scores = cross_val_score(model, X_test_scaled, y_test, cv=5, scoring='r2')\n",
    "\n",
    "    # Calculate RMSE for each fold\n",
    "    rmse_scores = np.sqrt(-cross_val_score(model, X_test_scaled, y_test, cv=5, scoring='neg_mean_squared_error'))\n",
    "    \n",
    "    print(f\"Average R2 Score for {dataset_name}:\", np.mean(cv_scores))\n",
    "    print(f\"Average RMSE for {dataset_name} data:\", np.mean(rmse_scores))"
   ]
  },
  {
   "cell_type": "code",
   "execution_count": null,
   "id": "a98b71a6-d546-43da-8c3f-4e5c9908f7ed",
   "metadata": {},
   "outputs": [],
   "source": []
  },
  {
   "cell_type": "code",
   "execution_count": 12,
   "id": "b3f32285-7173-4a3b-b54a-6f8ff50509ec",
   "metadata": {},
   "outputs": [],
   "source": [
    "model = RandomForestRegressor()"
   ]
  },
  {
   "cell_type": "code",
   "execution_count": 13,
   "id": "343ae585-3d2f-490b-a6ca-e9a7087e5f72",
   "metadata": {},
   "outputs": [
    {
     "data": {
      "text/html": [
       "<style>#sk-container-id-1 {color: black;}#sk-container-id-1 pre{padding: 0;}#sk-container-id-1 div.sk-toggleable {background-color: white;}#sk-container-id-1 label.sk-toggleable__label {cursor: pointer;display: block;width: 100%;margin-bottom: 0;padding: 0.3em;box-sizing: border-box;text-align: center;}#sk-container-id-1 label.sk-toggleable__label-arrow:before {content: \"▸\";float: left;margin-right: 0.25em;color: #696969;}#sk-container-id-1 label.sk-toggleable__label-arrow:hover:before {color: black;}#sk-container-id-1 div.sk-estimator:hover label.sk-toggleable__label-arrow:before {color: black;}#sk-container-id-1 div.sk-toggleable__content {max-height: 0;max-width: 0;overflow: hidden;text-align: left;background-color: #f0f8ff;}#sk-container-id-1 div.sk-toggleable__content pre {margin: 0.2em;color: black;border-radius: 0.25em;background-color: #f0f8ff;}#sk-container-id-1 input.sk-toggleable__control:checked~div.sk-toggleable__content {max-height: 200px;max-width: 100%;overflow: auto;}#sk-container-id-1 input.sk-toggleable__control:checked~label.sk-toggleable__label-arrow:before {content: \"▾\";}#sk-container-id-1 div.sk-estimator input.sk-toggleable__control:checked~label.sk-toggleable__label {background-color: #d4ebff;}#sk-container-id-1 div.sk-label input.sk-toggleable__control:checked~label.sk-toggleable__label {background-color: #d4ebff;}#sk-container-id-1 input.sk-hidden--visually {border: 0;clip: rect(1px 1px 1px 1px);clip: rect(1px, 1px, 1px, 1px);height: 1px;margin: -1px;overflow: hidden;padding: 0;position: absolute;width: 1px;}#sk-container-id-1 div.sk-estimator {font-family: monospace;background-color: #f0f8ff;border: 1px dotted black;border-radius: 0.25em;box-sizing: border-box;margin-bottom: 0.5em;}#sk-container-id-1 div.sk-estimator:hover {background-color: #d4ebff;}#sk-container-id-1 div.sk-parallel-item::after {content: \"\";width: 100%;border-bottom: 1px solid gray;flex-grow: 1;}#sk-container-id-1 div.sk-label:hover label.sk-toggleable__label {background-color: #d4ebff;}#sk-container-id-1 div.sk-serial::before {content: \"\";position: absolute;border-left: 1px solid gray;box-sizing: border-box;top: 0;bottom: 0;left: 50%;z-index: 0;}#sk-container-id-1 div.sk-serial {display: flex;flex-direction: column;align-items: center;background-color: white;padding-right: 0.2em;padding-left: 0.2em;position: relative;}#sk-container-id-1 div.sk-item {position: relative;z-index: 1;}#sk-container-id-1 div.sk-parallel {display: flex;align-items: stretch;justify-content: center;background-color: white;position: relative;}#sk-container-id-1 div.sk-item::before, #sk-container-id-1 div.sk-parallel-item::before {content: \"\";position: absolute;border-left: 1px solid gray;box-sizing: border-box;top: 0;bottom: 0;left: 50%;z-index: -1;}#sk-container-id-1 div.sk-parallel-item {display: flex;flex-direction: column;z-index: 1;position: relative;background-color: white;}#sk-container-id-1 div.sk-parallel-item:first-child::after {align-self: flex-end;width: 50%;}#sk-container-id-1 div.sk-parallel-item:last-child::after {align-self: flex-start;width: 50%;}#sk-container-id-1 div.sk-parallel-item:only-child::after {width: 0;}#sk-container-id-1 div.sk-dashed-wrapped {border: 1px dashed gray;margin: 0 0.4em 0.5em 0.4em;box-sizing: border-box;padding-bottom: 0.4em;background-color: white;}#sk-container-id-1 div.sk-label label {font-family: monospace;font-weight: bold;display: inline-block;line-height: 1.2em;}#sk-container-id-1 div.sk-label-container {text-align: center;}#sk-container-id-1 div.sk-container {/* jupyter's `normalize.less` sets `[hidden] { display: none; }` but bootstrap.min.css set `[hidden] { display: none !important; }` so we also need the `!important` here to be able to override the default hidden behavior on the sphinx rendered scikit-learn.org. See: https://github.com/scikit-learn/scikit-learn/issues/21755 */display: inline-block !important;position: relative;}#sk-container-id-1 div.sk-text-repr-fallback {display: none;}</style><div id=\"sk-container-id-1\" class=\"sk-top-container\"><div class=\"sk-text-repr-fallback\"><pre>RandomForestRegressor()</pre><b>In a Jupyter environment, please rerun this cell to show the HTML representation or trust the notebook. <br />On GitHub, the HTML representation is unable to render, please try loading this page with nbviewer.org.</b></div><div class=\"sk-container\" hidden><div class=\"sk-item\"><div class=\"sk-estimator sk-toggleable\"><input class=\"sk-toggleable__control sk-hidden--visually\" id=\"sk-estimator-id-1\" type=\"checkbox\" checked><label for=\"sk-estimator-id-1\" class=\"sk-toggleable__label sk-toggleable__label-arrow\">RandomForestRegressor</label><div class=\"sk-toggleable__content\"><pre>RandomForestRegressor()</pre></div></div></div></div></div>"
      ],
      "text/plain": [
       "RandomForestRegressor()"
      ]
     },
     "execution_count": 13,
     "metadata": {},
     "output_type": "execute_result"
    }
   ],
   "source": [
    "# Train the model on BoxMod training data\n",
    "model.fit(X_boxmod_train_scaled, y_boxmod_train)"
   ]
  },
  {
   "cell_type": "code",
   "execution_count": 14,
   "id": "c2217bea-8b93-4c08-9da3-b32db858dd8c",
   "metadata": {},
   "outputs": [
    {
     "name": "stdout",
     "output_type": "stream",
     "text": [
      "BoxMod - R2 Score: 0.9665683652583067\n",
      "BoxMod - RMSE: 398.8169325379025\n"
     ]
    }
   ],
   "source": [
    "evaluation(model, X_boxmod_test_scaled, y_boxmod_test, \"BoxMod\")"
   ]
  },
  {
   "cell_type": "code",
   "execution_count": 15,
   "id": "cf567b28-3ea9-4371-ac45-1f24edc12455",
   "metadata": {},
   "outputs": [
    {
     "name": "stdout",
     "output_type": "stream",
     "text": [
      "Average R2 Score for BoxMod: 0.94554365441811\n",
      "Average RMSE for BoxMod data: 502.05634650414675\n"
     ]
    }
   ],
   "source": [
    "evaluation_cross(model, X_boxmod_test_scaled, y_boxmod_test, \"BoxMod\")"
   ]
  },
  {
   "cell_type": "code",
   "execution_count": null,
   "id": "f798ce4d-0dec-46c2-9c60-365558fe5d71",
   "metadata": {},
   "outputs": [],
   "source": []
  },
  {
   "cell_type": "code",
   "execution_count": 16,
   "id": "cb0c363f-eb3f-49fb-a17c-2c26fc185515",
   "metadata": {},
   "outputs": [
    {
     "name": "stdout",
     "output_type": "stream",
     "text": [
      "JUUL - R2 Score: 0.6956784770862996\n",
      "JUUL - RMSE: 174.6010915924428\n"
     ]
    }
   ],
   "source": [
    "evaluation(model, X_juul_test_scaled, y_juul_test, \"JUUL\")"
   ]
  },
  {
   "cell_type": "code",
   "execution_count": 17,
   "id": "047b66d0-c9e2-4cf1-9ca6-6f78983d30cd",
   "metadata": {},
   "outputs": [],
   "source": [
    "# evaluation_cross(model, X_juul_test_scaled, y_juul_test, \"JUUL\")"
   ]
  },
  {
   "cell_type": "code",
   "execution_count": 18,
   "id": "02e8a08d-91a9-4bc3-b7e7-0b8700dc602b",
   "metadata": {},
   "outputs": [
    {
     "data": {
      "text/html": [
       "<style>#sk-container-id-2 {color: black;}#sk-container-id-2 pre{padding: 0;}#sk-container-id-2 div.sk-toggleable {background-color: white;}#sk-container-id-2 label.sk-toggleable__label {cursor: pointer;display: block;width: 100%;margin-bottom: 0;padding: 0.3em;box-sizing: border-box;text-align: center;}#sk-container-id-2 label.sk-toggleable__label-arrow:before {content: \"▸\";float: left;margin-right: 0.25em;color: #696969;}#sk-container-id-2 label.sk-toggleable__label-arrow:hover:before {color: black;}#sk-container-id-2 div.sk-estimator:hover label.sk-toggleable__label-arrow:before {color: black;}#sk-container-id-2 div.sk-toggleable__content {max-height: 0;max-width: 0;overflow: hidden;text-align: left;background-color: #f0f8ff;}#sk-container-id-2 div.sk-toggleable__content pre {margin: 0.2em;color: black;border-radius: 0.25em;background-color: #f0f8ff;}#sk-container-id-2 input.sk-toggleable__control:checked~div.sk-toggleable__content {max-height: 200px;max-width: 100%;overflow: auto;}#sk-container-id-2 input.sk-toggleable__control:checked~label.sk-toggleable__label-arrow:before {content: \"▾\";}#sk-container-id-2 div.sk-estimator input.sk-toggleable__control:checked~label.sk-toggleable__label {background-color: #d4ebff;}#sk-container-id-2 div.sk-label input.sk-toggleable__control:checked~label.sk-toggleable__label {background-color: #d4ebff;}#sk-container-id-2 input.sk-hidden--visually {border: 0;clip: rect(1px 1px 1px 1px);clip: rect(1px, 1px, 1px, 1px);height: 1px;margin: -1px;overflow: hidden;padding: 0;position: absolute;width: 1px;}#sk-container-id-2 div.sk-estimator {font-family: monospace;background-color: #f0f8ff;border: 1px dotted black;border-radius: 0.25em;box-sizing: border-box;margin-bottom: 0.5em;}#sk-container-id-2 div.sk-estimator:hover {background-color: #d4ebff;}#sk-container-id-2 div.sk-parallel-item::after {content: \"\";width: 100%;border-bottom: 1px solid gray;flex-grow: 1;}#sk-container-id-2 div.sk-label:hover label.sk-toggleable__label {background-color: #d4ebff;}#sk-container-id-2 div.sk-serial::before {content: \"\";position: absolute;border-left: 1px solid gray;box-sizing: border-box;top: 0;bottom: 0;left: 50%;z-index: 0;}#sk-container-id-2 div.sk-serial {display: flex;flex-direction: column;align-items: center;background-color: white;padding-right: 0.2em;padding-left: 0.2em;position: relative;}#sk-container-id-2 div.sk-item {position: relative;z-index: 1;}#sk-container-id-2 div.sk-parallel {display: flex;align-items: stretch;justify-content: center;background-color: white;position: relative;}#sk-container-id-2 div.sk-item::before, #sk-container-id-2 div.sk-parallel-item::before {content: \"\";position: absolute;border-left: 1px solid gray;box-sizing: border-box;top: 0;bottom: 0;left: 50%;z-index: -1;}#sk-container-id-2 div.sk-parallel-item {display: flex;flex-direction: column;z-index: 1;position: relative;background-color: white;}#sk-container-id-2 div.sk-parallel-item:first-child::after {align-self: flex-end;width: 50%;}#sk-container-id-2 div.sk-parallel-item:last-child::after {align-self: flex-start;width: 50%;}#sk-container-id-2 div.sk-parallel-item:only-child::after {width: 0;}#sk-container-id-2 div.sk-dashed-wrapped {border: 1px dashed gray;margin: 0 0.4em 0.5em 0.4em;box-sizing: border-box;padding-bottom: 0.4em;background-color: white;}#sk-container-id-2 div.sk-label label {font-family: monospace;font-weight: bold;display: inline-block;line-height: 1.2em;}#sk-container-id-2 div.sk-label-container {text-align: center;}#sk-container-id-2 div.sk-container {/* jupyter's `normalize.less` sets `[hidden] { display: none; }` but bootstrap.min.css set `[hidden] { display: none !important; }` so we also need the `!important` here to be able to override the default hidden behavior on the sphinx rendered scikit-learn.org. See: https://github.com/scikit-learn/scikit-learn/issues/21755 */display: inline-block !important;position: relative;}#sk-container-id-2 div.sk-text-repr-fallback {display: none;}</style><div id=\"sk-container-id-2\" class=\"sk-top-container\"><div class=\"sk-text-repr-fallback\"><pre>RandomForestRegressor()</pre><b>In a Jupyter environment, please rerun this cell to show the HTML representation or trust the notebook. <br />On GitHub, the HTML representation is unable to render, please try loading this page with nbviewer.org.</b></div><div class=\"sk-container\" hidden><div class=\"sk-item\"><div class=\"sk-estimator sk-toggleable\"><input class=\"sk-toggleable__control sk-hidden--visually\" id=\"sk-estimator-id-2\" type=\"checkbox\" checked><label for=\"sk-estimator-id-2\" class=\"sk-toggleable__label sk-toggleable__label-arrow\">RandomForestRegressor</label><div class=\"sk-toggleable__content\"><pre>RandomForestRegressor()</pre></div></div></div></div></div>"
      ],
      "text/plain": [
       "RandomForestRegressor()"
      ]
     },
     "execution_count": 18,
     "metadata": {},
     "output_type": "execute_result"
    }
   ],
   "source": [
    "# Fine-tuning on JUUL training data\n",
    "model.fit(X_juul_train_scaled, y_juul_train)"
   ]
  },
  {
   "cell_type": "code",
   "execution_count": 19,
   "id": "0a724dfc-139a-45c6-8646-c02f11ba4e49",
   "metadata": {},
   "outputs": [
    {
     "name": "stdout",
     "output_type": "stream",
     "text": [
      "JUUL - R2 Score: 0.9796580912554063\n",
      "JUUL - RMSE: 45.14155041384553\n"
     ]
    }
   ],
   "source": [
    "evaluation(model, X_juul_test_scaled, y_juul_test, \"JUUL\")"
   ]
  },
  {
   "cell_type": "code",
   "execution_count": 20,
   "id": "3ee46099-dce9-4cca-84fc-87bf4850f373",
   "metadata": {},
   "outputs": [
    {
     "name": "stdout",
     "output_type": "stream",
     "text": [
      "Average R2 Score for JUUL: 0.9683487281995712\n",
      "Average RMSE for JUUL data: 55.61974430680273\n"
     ]
    }
   ],
   "source": [
    "evaluation_cross(model, X_juul_test_scaled, y_juul_test, \"JUUL\")"
   ]
  },
  {
   "cell_type": "code",
   "execution_count": null,
   "id": "68b3bbdb-d933-4071-ad81-b80d99375a1f",
   "metadata": {},
   "outputs": [],
   "source": []
  },
  {
   "cell_type": "code",
   "execution_count": null,
   "id": "cc5d9358-921b-4f8f-abe3-cacd5597a4e4",
   "metadata": {},
   "outputs": [],
   "source": []
  },
  {
   "cell_type": "code",
   "execution_count": null,
   "id": "137b6293-376e-455e-ad06-2a6ac41ab3e9",
   "metadata": {},
   "outputs": [],
   "source": []
  },
  {
   "cell_type": "code",
   "execution_count": null,
   "id": "314006e7-f391-48c8-9e5d-7ee2a8f4f25a",
   "metadata": {},
   "outputs": [],
   "source": []
  },
  {
   "cell_type": "code",
   "execution_count": null,
   "id": "8daeaada-367e-4b34-ae0f-49231f307bf5",
   "metadata": {},
   "outputs": [],
   "source": []
  },
  {
   "cell_type": "code",
   "execution_count": 21,
   "id": "1b4ea6b6-d769-4592-8fec-f6058ec306f8",
   "metadata": {},
   "outputs": [],
   "source": [
    "from tensorflow.keras.models import Sequential\n",
    "from tensorflow.keras.layers import Dense, Dropout\n",
    "from tensorflow.keras.callbacks import EarlyStopping\n",
    "from tensorflow.keras.optimizers.legacy import Adam\n",
    "from sklearn.model_selection import KFold"
   ]
  },
  {
   "cell_type": "code",
   "execution_count": 22,
   "id": "af6a8eaf-242a-415e-a05e-c49b984a0d97",
   "metadata": {},
   "outputs": [],
   "source": [
    "scaler = StandardScaler()\n",
    "X_boxmod_scaled = scaler.fit_transform(X_boxmod)\n",
    "X_juul_scaled = scaler.fit_transform(X_juul)"
   ]
  },
  {
   "cell_type": "code",
   "execution_count": 23,
   "id": "4445d16e-65f7-479c-adaa-c558a44dac0b",
   "metadata": {},
   "outputs": [],
   "source": [
    "def perform_kfold_cv(X, y):\n",
    "    kfold = KFold(5, shuffle=True)\n",
    "    mse_scores = []\n",
    "    r2_scores = []\n",
    "    \n",
    "    for train, test in kfold.split(X, y):\n",
    "        # Create the model\n",
    "        model = Sequential()\n",
    "        model.add(Dense(64, input_dim=X.shape[1], activation='relu'))\n",
    "        model.add(Dropout(0.2))\n",
    "        model.add(Dense(32, activation='relu'))\n",
    "        model.add(Dense(1, activation='linear'))  # Linear activation for regression\n",
    "    \n",
    "        # Compile the model\n",
    "        model.compile(optimizer='adam', loss='mean_squared_error')\n",
    "    \n",
    "        # Fit the model\n",
    "        model.fit(X[train], y[train], epochs=100, batch_size=32, verbose=0)\n",
    "    \n",
    "        # Evaluate the model\n",
    "        y_pred = model.predict(X[test]).flatten()\n",
    "        mse_scores.append(mean_squared_error(y[test], y_pred))\n",
    "        r2_scores.append(r2_score(y[test], y_pred))\n",
    "\n",
    "    \n",
    "    # Calculate average and standard deviation of MSE\n",
    "    average_mse = np.mean(mse_scores)\n",
    "    std_dev_mse = np.std(mse_scores)\n",
    "    average_r2 = np.mean(r2_scores)\n",
    "    std_dev_r2 = np.std(r2_scores)\n",
    "\n",
    "    \n",
    "    print(\"Average MSE:\", average_mse)\n",
    "    print(\"Standard Deviation of MSE:\", std_dev_mse)\n",
    "    print(\"Average R2:\", average_r2)\n",
    "    print(\"Standard Deviation of R2:\", std_dev_r2)\n"
   ]
  },
  {
   "cell_type": "code",
   "execution_count": 24,
   "id": "29b447db-83e0-4262-90ac-8c0f9415b98e",
   "metadata": {},
   "outputs": [
    {
     "name": "stdout",
     "output_type": "stream",
     "text": [
      "9/9 [==============================] - 0s 309us/step\n",
      "9/9 [==============================] - 0s 332us/step\n",
      "9/9 [==============================] - 0s 321us/step\n",
      "9/9 [==============================] - 0s 304us/step\n",
      "9/9 [==============================] - 0s 331us/step\n",
      "Average MSE: 280730.4156375802\n",
      "Standard Deviation of MSE: 59092.42862527706\n",
      "Average R2: 0.9469836801846471\n",
      "Standard Deviation of R2: 0.0074044386681163315\n"
     ]
    }
   ],
   "source": [
    "perform_kfold_cv(X_boxmod_scaled, y_boxmod)"
   ]
  },
  {
   "cell_type": "code",
   "execution_count": 25,
   "id": "e260ed1d-8389-4ce0-92a2-9235a53b6e73",
   "metadata": {},
   "outputs": [
    {
     "name": "stdout",
     "output_type": "stream",
     "text": [
      "9/9 [==============================] - 0s 315us/step\n",
      "9/9 [==============================] - 0s 313us/step\n",
      "9/9 [==============================] - 0s 316us/step\n",
      "9/9 [==============================] - 0s 321us/step\n",
      "9/9 [==============================] - 0s 322us/step\n",
      "Average MSE: 2507.426806499519\n",
      "Standard Deviation of MSE: 508.4259370874592\n",
      "Average R2: 0.975035603032584\n",
      "Standard Deviation of R2: 0.004710411355313271\n"
     ]
    }
   ],
   "source": [
    "perform_kfold_cv(X_juul_scaled, y_juul)"
   ]
  },
  {
   "cell_type": "code",
   "execution_count": null,
   "id": "6db5f102-891b-43fd-b686-a51238c8e2ff",
   "metadata": {},
   "outputs": [],
   "source": []
  },
  {
   "cell_type": "code",
   "execution_count": null,
   "id": "d5753668-8b3a-4e7f-8cb6-515a4920dec8",
   "metadata": {},
   "outputs": [],
   "source": []
  },
  {
   "cell_type": "code",
   "execution_count": 26,
   "id": "325bc1ad-dfa1-41cd-afc4-9e2da21afc06",
   "metadata": {},
   "outputs": [],
   "source": [
    "def train_base_model(X, y):\n",
    "    model = Sequential()\n",
    "    model.add(Dense(64, input_dim=X.shape[1], activation='relu'))\n",
    "    model.add(Dropout(0.2))\n",
    "    model.add(Dense(32, activation='relu'))\n",
    "    model.add(Dense(1, activation='linear'))  # Output layer for regression\n",
    "    model.compile(optimizer='adam', loss='mean_squared_error')\n",
    "    model.fit(X, y, epochs=100, batch_size=32, verbose=0)\n",
    "    return model"
   ]
  },
  {
   "cell_type": "code",
   "execution_count": 27,
   "id": "91820491-7541-461f-8d08-1d6ba7767838",
   "metadata": {},
   "outputs": [],
   "source": [
    "def perform_transfer_learning_kfold_cv(X_juul, y_juul, base_model):\n",
    "    kfold = KFold(5, shuffle=True)\n",
    "    mse_scores = []\n",
    "    r2_scores = []\n",
    "\n",
    "    for train, test in kfold.split(X_juul, y_juul):\n",
    "        # Clone the base model structure and weights\n",
    "        model = Sequential(base_model.layers[:-1])  # Exclude the last layer\n",
    "        model.add(Dense(1, activation='linear'))  # Add new output layer\n",
    "        model.compile(optimizer='adam', loss='mean_squared_error')\n",
    "\n",
    "        # Fine-tune the model on JUUL data\n",
    "        model.fit(X_juul[train], y_juul[train], epochs=50, batch_size=32, verbose=0)  # Fewer epochs for fine-tuning\n",
    "\n",
    "        # Evaluate the model\n",
    "        y_pred = model.predict(X_juul[test]).flatten()\n",
    "        mse_scores.append(mean_squared_error(y_juul[test], y_pred))\n",
    "        r2_scores.append(r2_score(y_juul[test], y_pred))\n",
    "\n",
    "    average_mse = np.mean(mse_scores)\n",
    "    std_dev_mse = np.std(mse_scores)\n",
    "    average_r2 = np.mean(r2_scores)\n",
    "    std_dev_r2 = np.std(r2_scores)\n",
    "\n",
    "    print(\"Average MSE:\", average_mse)\n",
    "    print(\"Standard Deviation of MSE:\", std_dev_mse)\n",
    "    print(\"Average R2:\", average_r2)\n",
    "    print(\"Standard Deviation of R2:\", std_dev_r2)"
   ]
  },
  {
   "cell_type": "code",
   "execution_count": 28,
   "id": "3a28dd7c-b59f-467f-9402-220f5c3002d7",
   "metadata": {},
   "outputs": [],
   "source": [
    "base_model = train_base_model(X_boxmod_scaled, y_boxmod)"
   ]
  },
  {
   "cell_type": "code",
   "execution_count": 29,
   "id": "fbed5f6b-d32e-4640-9e46-189835fbf9cf",
   "metadata": {},
   "outputs": [
    {
     "name": "stdout",
     "output_type": "stream",
     "text": [
      "9/9 [==============================] - 0s 330us/step\n",
      "9/9 [==============================] - 0s 314us/step\n",
      "9/9 [==============================] - 0s 318us/step\n",
      "9/9 [==============================] - 0s 315us/step\n",
      "9/9 [==============================] - 0s 325us/step\n",
      "Average MSE: 2615.7219698864737\n",
      "Standard Deviation of MSE: 423.4040866428747\n",
      "Average R2: 0.9736367332480758\n",
      "Standard Deviation of R2: 0.004919168558411501\n"
     ]
    }
   ],
   "source": [
    "perform_transfer_learning_kfold_cv(X_juul_scaled, y_juul, base_model)"
   ]
  },
  {
   "cell_type": "code",
   "execution_count": null,
   "id": "fe42c407-9837-4ee6-951a-4a46f6a111f6",
   "metadata": {},
   "outputs": [],
   "source": []
  },
  {
   "cell_type": "code",
   "execution_count": null,
   "id": "7e197e1e-4179-4195-9fbc-761283b2be20",
   "metadata": {},
   "outputs": [],
   "source": []
  },
  {
   "cell_type": "code",
   "execution_count": null,
   "id": "81ae9cf6-5d31-4cc5-b45d-3ed6d44b3cc0",
   "metadata": {},
   "outputs": [],
   "source": []
  }
 ],
 "metadata": {
  "kernelspec": {
   "display_name": "Python 3 (ipykernel)",
   "language": "python",
   "name": "python3"
  },
  "language_info": {
   "codemirror_mode": {
    "name": "ipython",
    "version": 3
   },
   "file_extension": ".py",
   "mimetype": "text/x-python",
   "name": "python",
   "nbconvert_exporter": "python",
   "pygments_lexer": "ipython3",
   "version": "3.11.6"
  }
 },
 "nbformat": 4,
 "nbformat_minor": 5
}
